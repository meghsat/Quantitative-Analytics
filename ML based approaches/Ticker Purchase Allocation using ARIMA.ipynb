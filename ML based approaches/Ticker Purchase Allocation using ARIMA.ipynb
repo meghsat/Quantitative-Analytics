{
 "cells": [
  {
   "cell_type": "code",
   "execution_count": 1,
   "id": "e110fe16-0d96-4db2-9fb7-dc5d707ed6e6",
   "metadata": {},
   "outputs": [],
   "source": [
    "import pandas as pd\n",
    "import requests\n",
    "import regex as re\n",
    "import numpy as np\n",
    "import datetime as dt\n",
    "import networkx as nx\n",
    "from scipy.stats import pearsonr\n",
    "import matplotlib.pyplot as plt\n",
    "import plotly.express as px\n",
    "import yfinance as yf\n",
    "import statsmodels.api as sm\n",
    "from statsmodels.tsa.arima.model import ARIMA\n",
    "from statsmodels.tsa.statespace.sarimax import SARIMAX\n",
    "from statsmodels.graphics.tsaplots import plot_pacf,plot_acf\n",
    "from pandas.plotting import autocorrelation_plot\n",
    "from statsmodels.tsa.seasonal import seasonal_decompose\n",
    "from statsmodels.tsa.stattools import adfuller\n",
    "from pmdarima.arima.utils import ndiffs\n",
    "import pmdarima as pm\n",
    "import pandas_datareader as web\n",
    "import numpy as np\n",
    "import datetime as dt\n",
    "import matplotlib.pyplot as plt\n",
    "from sklearn.metrics import precision_score, confusion_matrix, ConfusionMatrixDisplay\n",
    "from sklearn.ensemble import RandomForestClassifier\n",
    "from sklearn.linear_model import LogisticRegression\n",
    "from sklearn.preprocessing import MinMaxScaler\n",
    "from keras import regularizers\n",
    "import itertools\n",
    "import math\n",
    "from pmdarima.arima import auto_arima\n"
   ]
  },
  {
   "cell_type": "code",
   "execution_count": 3,
   "id": "1f7a3d6b-bc24-4aea-8fb8-68f36fd36637",
   "metadata": {},
   "outputs": [],
   "source": [
    "sp_assets=pd.read_html('https://en.wikipedia.org/wiki/List_of_S%26P_500_companies')[0] \n",
    "assets=sp_assets['Symbol'].str.replace('.', '-').tolist()"
   ]
  },
  {
   "cell_type": "code",
   "execution_count": null,
   "id": "8ffa20e2-9cbe-4c8e-b82a-73398f4d2490",
   "metadata": {
    "scrolled": true
   },
   "outputs": [
    {
     "name": "stderr",
     "output_type": "stream",
     "text": [
      "[*********************100%%**********************]  1 of 1 completed\n",
      "[*********************100%%**********************]  1 of 1 completed\n",
      "[*********************100%%**********************]  1 of 1 completed\n",
      "[*********************100%%**********************]  1 of 1 completed\n",
      "[*********************100%%**********************]  1 of 1 completed\n",
      "[*********************100%%**********************]  1 of 1 completed\n",
      "[*********************100%%**********************]  1 of 1 completed\n"
     ]
    }
   ],
   "source": [
    "import warnings\n",
    "warnings.filterwarnings(\"ignore\")\n",
    "stock_df={}\n",
    "for stock in assets:\n",
    "    df=yf.download(stock,start='2024-01-01',end='2024-04-06')\n",
    "    df_frq=df.asfreq(pd.infer_freq(df.index))['Close']\n",
    "    df_frq=df_frq.fillna(method='ffill')\n",
    "    X_train=[]\n",
    "    X_test=[]\n",
    "    crct_windows=0\n",
    "    total_windows=0\n",
    "    losses={}\n",
    "    for i in range(30,len(df_frq)):\n",
    "        total_windows+=1\n",
    "        X_train=df_frq.iloc[i-30:i]\n",
    "        X_test=df_frq[i:i+1]\n",
    "        adf_pvalue=adfuller(X_train)[1]\n",
    "        d=0\n",
    "        if adf_pvalue>0.05:\n",
    "            X_train_diff=X_train.copy()\n",
    "            while True:\n",
    "                X_train_diff=X_train_diff.diff().dropna()\n",
    "                adf_pvalue=adfuller(X_train_diff)[1]\n",
    "                d+=1\n",
    "                if adf_pvalue<=0.05:\n",
    "                    break         \n",
    "        p=q=range(0,12)\n",
    "        pq=list(itertools.product(p,q))\n",
    "        aic=math.inf\n",
    "        best_params=(0,d,0)\n",
    "        for i in pq:\n",
    "            try:\n",
    "                arima = ARIMA(X_train,order=(i[0],d,i[1]))\n",
    "                arima_fit = arima.fit()\n",
    "                aic_=arima_fit.aic\n",
    "                if aic_<aic:\n",
    "                    aic=aic_\n",
    "                    best_params=(i[0],d,i[1])\n",
    "            except:\n",
    "                continue\n",
    "        arima = ARIMA(X_train,order=best_params)\n",
    "        arima_fit = arima.fit()\n",
    "        prediction_df=arima_fit.get_forecast(X_test.index[0]).summary_frame()\n",
    "        if X_test.iloc[0]>=prediction_df.loc[X_test.index[0]]['mean_ci_lower'] and X_test.iloc[0]<=prediction_df.loc[X_test.index[0]]['mean_ci_upper']:\n",
    "            crct_windows+=1\n",
    "            losses[X_test.index[0].strftime('%Y-%m-%d')]=[X_test.iloc[0]-prediction_df.loc[X_test.index[0]]['mean'],X_test.iloc[0],prediction_df.loc[X_test.index[0]]['mean']]\n",
    "    stock_df[stock]=[crct_windows,total_windows,losses]\n",
    "    "
   ]
  },
  {
   "cell_type": "code",
   "execution_count": null,
   "id": "9755e481-ca7a-44c9-8023-ec868b4e55b8",
   "metadata": {},
   "outputs": [],
   "source": []
  }
 ],
 "metadata": {
  "kernelspec": {
   "display_name": "Python 3 (ipykernel)",
   "language": "python",
   "name": "python3"
  },
  "language_info": {
   "codemirror_mode": {
    "name": "ipython",
    "version": 3
   },
   "file_extension": ".py",
   "mimetype": "text/x-python",
   "name": "python",
   "nbconvert_exporter": "python",
   "pygments_lexer": "ipython3",
   "version": "3.11.7"
  }
 },
 "nbformat": 4,
 "nbformat_minor": 5
}
