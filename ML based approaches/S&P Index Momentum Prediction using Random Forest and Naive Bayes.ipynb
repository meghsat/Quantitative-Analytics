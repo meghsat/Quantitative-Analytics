{
 "cells": [
  {
   "cell_type": "code",
   "execution_count": 135,
   "metadata": {},
   "outputs": [],
   "source": [
    "import yfinance as yf\n",
    "import pandas as pd\n",
    "import numpy as np\n",
    "import matplotlib.pyplot as plt\n",
    "from sklearn.metrics import precision_score\n",
    "from sklearn.ensemble import RandomForestClassifier\n",
    "from sklearn.linear_model import LogisticRegression"
   ]
  },
  {
   "cell_type": "code",
   "execution_count": 149,
   "metadata": {},
   "outputs": [],
   "source": [
    "sp500=yf.Ticker(\"^GSPC\")  # ^GSPC is the Ticker for S&P500 index\n",
    "sp500=sp500.history(period=\"max\")  #gives us the historical data since the beginning of the S&P index\n",
    "del sp500[\"Dividends\"]\n",
    "del sp500[\"Stock Splits\"]\n",
    "sp500.index=(pd.to_datetime(sp500.index))\n",
    "sp500.index=sp500.index.strftime('%Y-%m-%d')\n",
    "predictors=[]\n",
    "target=[]"
   ]
  },
  {
   "cell_type": "code",
   "execution_count": 80,
   "metadata": {},
   "outputs": [
    {
     "data": {
      "text/html": [
       "<div>\n",
       "<style scoped>\n",
       "    .dataframe tbody tr th:only-of-type {\n",
       "        vertical-align: middle;\n",
       "    }\n",
       "\n",
       "    .dataframe tbody tr th {\n",
       "        vertical-align: top;\n",
       "    }\n",
       "\n",
       "    .dataframe thead th {\n",
       "        text-align: right;\n",
       "    }\n",
       "</style>\n",
       "<table border=\"1\" class=\"dataframe\">\n",
       "  <thead>\n",
       "    <tr style=\"text-align: right;\">\n",
       "      <th></th>\n",
       "      <th>Open</th>\n",
       "      <th>High</th>\n",
       "      <th>Low</th>\n",
       "      <th>Close</th>\n",
       "      <th>Volume</th>\n",
       "    </tr>\n",
       "    <tr>\n",
       "      <th>Date</th>\n",
       "      <th></th>\n",
       "      <th></th>\n",
       "      <th></th>\n",
       "      <th></th>\n",
       "      <th></th>\n",
       "    </tr>\n",
       "  </thead>\n",
       "  <tbody>\n",
       "    <tr>\n",
       "      <th>1927-12-30</th>\n",
       "      <td>17.660000</td>\n",
       "      <td>17.660000</td>\n",
       "      <td>17.660000</td>\n",
       "      <td>17.660000</td>\n",
       "      <td>0</td>\n",
       "    </tr>\n",
       "    <tr>\n",
       "      <th>1928-01-03</th>\n",
       "      <td>17.760000</td>\n",
       "      <td>17.760000</td>\n",
       "      <td>17.760000</td>\n",
       "      <td>17.760000</td>\n",
       "      <td>0</td>\n",
       "    </tr>\n",
       "    <tr>\n",
       "      <th>1928-01-04</th>\n",
       "      <td>17.719999</td>\n",
       "      <td>17.719999</td>\n",
       "      <td>17.719999</td>\n",
       "      <td>17.719999</td>\n",
       "      <td>0</td>\n",
       "    </tr>\n",
       "    <tr>\n",
       "      <th>1928-01-05</th>\n",
       "      <td>17.549999</td>\n",
       "      <td>17.549999</td>\n",
       "      <td>17.549999</td>\n",
       "      <td>17.549999</td>\n",
       "      <td>0</td>\n",
       "    </tr>\n",
       "    <tr>\n",
       "      <th>1928-01-06</th>\n",
       "      <td>17.660000</td>\n",
       "      <td>17.660000</td>\n",
       "      <td>17.660000</td>\n",
       "      <td>17.660000</td>\n",
       "      <td>0</td>\n",
       "    </tr>\n",
       "  </tbody>\n",
       "</table>\n",
       "</div>"
      ],
      "text/plain": [
       "                 Open       High        Low      Close  Volume\n",
       "Date                                                          \n",
       "1927-12-30  17.660000  17.660000  17.660000  17.660000       0\n",
       "1928-01-03  17.760000  17.760000  17.760000  17.760000       0\n",
       "1928-01-04  17.719999  17.719999  17.719999  17.719999       0\n",
       "1928-01-05  17.549999  17.549999  17.549999  17.549999       0\n",
       "1928-01-06  17.660000  17.660000  17.660000  17.660000       0"
      ]
     },
     "execution_count": 80,
     "metadata": {},
     "output_type": "execute_result"
    }
   ],
   "source": [
    "sp500.head()"
   ]
  },
  {
   "cell_type": "code",
   "execution_count": 32,
   "metadata": {},
   "outputs": [
    {
     "data": {
      "text/plain": [
       "<AxesSubplot:xlabel='Date'>"
      ]
     },
     "execution_count": 32,
     "metadata": {},
     "output_type": "execute_result"
    },
    {
     "data": {
      "image/png": "[encoded data removed]",
      "text/plain": [
       "<Figure size 432x288 with 1 Axes>"
      ]
     },
     "metadata": {
      "needs_background": "light"
     },
     "output_type": "display_data"
    }
   ],
   "source": [
    "sp500.plot.line(y=\"Close\",use_index=True)"
   ]
  },
  {
   "cell_type": "code",
   "execution_count": 150,
   "metadata": {},
   "outputs": [],
   "source": [
    "# Seeing if we can predict the following day's closing price of the index\n",
    "sp500[\"Tomorrow\"]=sp500[\"Close\"].shift(-1) # for each row the new column contains the next day's closing price\n",
    "sp500[\"Target\"]=(sp500[\"Tomorrow\"]>sp500[\"Close\"]).astype(int)"
   ]
  },
  {
   "cell_type": "code",
   "execution_count": 151,
   "metadata": {},
   "outputs": [],
   "source": [
    "sp500=sp500.loc[\"1990-01-01\":].copy() # Instead of going too long into historical data we're considering from 1990-01-01"
   ]
  },
  {
   "cell_type": "code",
   "execution_count": 106,
   "metadata": {},
   "outputs": [
    {
     "data": {
      "text/html": [
       "<div>\n",
       "<style scoped>\n",
       "    .dataframe tbody tr th:only-of-type {\n",
       "        vertical-align: middle;\n",
       "    }\n",
       "\n",
       "    .dataframe tbody tr th {\n",
       "        vertical-align: top;\n",
       "    }\n",
       "\n",
       "    .dataframe thead th {\n",
       "        text-align: right;\n",
       "    }\n",
       "</style>\n",
       "<table border=\"1\" class=\"dataframe\">\n",
       "  <thead>\n",
       "    <tr style=\"text-align: right;\">\n",
       "      <th></th>\n",
       "      <th>Open</th>\n",
       "      <th>High</th>\n",
       "      <th>Low</th>\n",
       "      <th>Close</th>\n",
       "      <th>Volume</th>\n",
       "      <th>Tomorrow</th>\n",
       "      <th>Target</th>\n",
       "    </tr>\n",
       "    <tr>\n",
       "      <th>Date</th>\n",
       "      <th></th>\n",
       "      <th></th>\n",
       "      <th></th>\n",
       "      <th></th>\n",
       "      <th></th>\n",
       "      <th></th>\n",
       "      <th></th>\n",
       "    </tr>\n",
       "  </thead>\n",
       "  <tbody>\n",
       "    <tr>\n",
       "      <th>1990-01-02</th>\n",
       "      <td>353.399994</td>\n",
       "      <td>359.690002</td>\n",
       "      <td>351.980011</td>\n",
       "      <td>359.690002</td>\n",
       "      <td>162070000</td>\n",
       "      <td>358.760010</td>\n",
       "      <td>0</td>\n",
       "    </tr>\n",
       "    <tr>\n",
       "      <th>1990-01-03</th>\n",
       "      <td>359.690002</td>\n",
       "      <td>360.589996</td>\n",
       "      <td>357.890015</td>\n",
       "      <td>358.760010</td>\n",
       "      <td>192330000</td>\n",
       "      <td>355.670013</td>\n",
       "      <td>0</td>\n",
       "    </tr>\n",
       "    <tr>\n",
       "      <th>1990-01-04</th>\n",
       "      <td>358.760010</td>\n",
       "      <td>358.760010</td>\n",
       "      <td>352.890015</td>\n",
       "      <td>355.670013</td>\n",
       "      <td>177000000</td>\n",
       "      <td>352.200012</td>\n",
       "      <td>0</td>\n",
       "    </tr>\n",
       "    <tr>\n",
       "      <th>1990-01-05</th>\n",
       "      <td>355.670013</td>\n",
       "      <td>355.670013</td>\n",
       "      <td>351.350006</td>\n",
       "      <td>352.200012</td>\n",
       "      <td>158530000</td>\n",
       "      <td>353.790009</td>\n",
       "      <td>1</td>\n",
       "    </tr>\n",
       "    <tr>\n",
       "      <th>1990-01-08</th>\n",
       "      <td>352.200012</td>\n",
       "      <td>354.239990</td>\n",
       "      <td>350.540009</td>\n",
       "      <td>353.790009</td>\n",
       "      <td>140110000</td>\n",
       "      <td>349.619995</td>\n",
       "      <td>0</td>\n",
       "    </tr>\n",
       "    <tr>\n",
       "      <th>...</th>\n",
       "      <td>...</td>\n",
       "      <td>...</td>\n",
       "      <td>...</td>\n",
       "      <td>...</td>\n",
       "      <td>...</td>\n",
       "      <td>...</td>\n",
       "      <td>...</td>\n",
       "    </tr>\n",
       "    <tr>\n",
       "      <th>2024-03-18</th>\n",
       "      <td>5154.770020</td>\n",
       "      <td>5175.600098</td>\n",
       "      <td>5145.470215</td>\n",
       "      <td>5149.419922</td>\n",
       "      <td>4036220000</td>\n",
       "      <td>5178.509766</td>\n",
       "      <td>1</td>\n",
       "    </tr>\n",
       "    <tr>\n",
       "      <th>2024-03-19</th>\n",
       "      <td>5139.089844</td>\n",
       "      <td>5180.310059</td>\n",
       "      <td>5131.589844</td>\n",
       "      <td>5178.509766</td>\n",
       "      <td>4031760000</td>\n",
       "      <td>5224.620117</td>\n",
       "      <td>1</td>\n",
       "    </tr>\n",
       "    <tr>\n",
       "      <th>2024-03-20</th>\n",
       "      <td>5181.689941</td>\n",
       "      <td>5226.189941</td>\n",
       "      <td>5171.549805</td>\n",
       "      <td>5224.620117</td>\n",
       "      <td>4064850000</td>\n",
       "      <td>5241.529785</td>\n",
       "      <td>1</td>\n",
       "    </tr>\n",
       "    <tr>\n",
       "      <th>2024-03-21</th>\n",
       "      <td>5253.430176</td>\n",
       "      <td>5261.100098</td>\n",
       "      <td>5240.660156</td>\n",
       "      <td>5241.529785</td>\n",
       "      <td>4207730000</td>\n",
       "      <td>5234.180176</td>\n",
       "      <td>0</td>\n",
       "    </tr>\n",
       "    <tr>\n",
       "      <th>2024-03-22</th>\n",
       "      <td>5242.479980</td>\n",
       "      <td>5246.089844</td>\n",
       "      <td>5229.870117</td>\n",
       "      <td>5234.180176</td>\n",
       "      <td>3374700000</td>\n",
       "      <td>NaN</td>\n",
       "      <td>0</td>\n",
       "    </tr>\n",
       "  </tbody>\n",
       "</table>\n",
       "<p>8622 rows × 7 columns</p>\n",
       "</div>"
      ],
      "text/plain": [
       "                   Open         High          Low        Close      Volume  \\\n",
       "Date                                                                         \n",
       "1990-01-02   353.399994   359.690002   351.980011   359.690002   162070000   \n",
       "1990-01-03   359.690002   360.589996   357.890015   358.760010   192330000   \n",
       "1990-01-04   358.760010   358.760010   352.890015   355.670013   177000000   \n",
       "1990-01-05   355.670013   355.670013   351.350006   352.200012   158530000   \n",
       "1990-01-08   352.200012   354.239990   350.540009   353.790009   140110000   \n",
       "...                 ...          ...          ...          ...         ...   \n",
       "2024-03-18  5154.770020  5175.600098  5145.470215  5149.419922  4036220000   \n",
       "2024-03-19  5139.089844  5180.310059  5131.589844  5178.509766  4031760000   \n",
       "2024-03-20  5181.689941  5226.189941  5171.549805  5224.620117  4064850000   \n",
       "2024-03-21  5253.430176  5261.100098  5240.660156  5241.529785  4207730000   \n",
       "2024-03-22  5242.479980  5246.089844  5229.870117  5234.180176  3374700000   \n",
       "\n",
       "               Tomorrow  Target  \n",
       "Date                             \n",
       "1990-01-02   358.760010       0  \n",
       "1990-01-03   355.670013       0  \n",
       "1990-01-04   352.200012       0  \n",
       "1990-01-05   353.790009       1  \n",
       "1990-01-08   349.619995       0  \n",
       "...                 ...     ...  \n",
       "2024-03-18  5178.509766       1  \n",
       "2024-03-19  5224.620117       1  \n",
       "2024-03-20  5241.529785       1  \n",
       "2024-03-21  5234.180176       0  \n",
       "2024-03-22          NaN       0  \n",
       "\n",
       "[8622 rows x 7 columns]"
      ]
     },
     "execution_count": 106,
     "metadata": {},
     "output_type": "execute_result"
    }
   ],
   "source": [
    "sp500"
   ]
  },
  {
   "cell_type": "code",
   "execution_count": 84,
   "metadata": {
    "scrolled": true
   },
   "outputs": [
    {
     "name": "stdout",
     "output_type": "stream",
     "text": [
      "Date\n",
      "1990    253\n",
      "1991    253\n",
      "1992    254\n",
      "1993    253\n",
      "1994    252\n",
      "1995    252\n",
      "1996    254\n",
      "1997    253\n",
      "1998    252\n",
      "1999    252\n",
      "2000    252\n",
      "2001    248\n",
      "2002    252\n",
      "2003    252\n",
      "2004    252\n",
      "2005    252\n",
      "2006    251\n",
      "2007    251\n",
      "2008    253\n",
      "2009    252\n",
      "2010    252\n",
      "2011    252\n",
      "2012    250\n",
      "2013    252\n",
      "2014    252\n",
      "2015    252\n",
      "2016    252\n",
      "2017    251\n",
      "2018    251\n",
      "2019    252\n",
      "2020    253\n",
      "2021    252\n",
      "2022    251\n",
      "2023    250\n",
      "2024     57\n",
      "dtype: int64\n"
     ]
    }
   ],
   "source": [
    "sp500.index = pd.to_datetime(sp500.index)\n",
    "yearly_counts = sp500.groupby(sp500.index.year).size()\n",
    "\n",
    "print(yearly_counts) # Each year has 250 entries"
   ]
  },
  {
   "cell_type": "code",
   "execution_count": 163,
   "metadata": {},
   "outputs": [],
   "source": [
    "def predict(train,model,test,predictors,target):\n",
    "    model.fit(train[predictors],train[target])\n",
    "    predictions=model.predict_proba(test[predictors])[:,1]\n",
    "    predictions[predictions>=.6]=1\n",
    "    predictions[predictions<.6]=0\n",
    "    predictions=pd.Series(predictions,index=test.index)\n",
    "    precisionscore=precision_score(test[\"Target\"],predictions)\n",
    "    #plotting\n",
    "    concatenated_df = pd.concat([test[\"Target\"], predictions], axis=1).tail(100)\n",
    "    index_values = concatenated_df.index.to_numpy()\n",
    "    target_values = concatenated_df['Target'].to_numpy()\n",
    "    prediction_values = concatenated_df[0].to_numpy()  \n",
    "    plt.plot(index_values, target_values, label='Target')\n",
    "    plt.plot(index_values, prediction_values, label='Predictions')\n",
    "    plt.xlabel('Date')\n",
    "    plt.ylabel('Values')\n",
    "    plt.legend()\n",
    "    plt.show()\n",
    "    return precisionscore,concatenated_df\n",
    "    "
   ]
  },
  {
   "cell_type": "code",
   "execution_count": 60,
   "metadata": {},
   "outputs": [
    {
     "name": "stderr",
     "output_type": "stream",
     "text": [
      "<ipython-input-59-e70d1747197c>:3: DataConversionWarning: A column-vector y was passed when a 1d array was expected. Please change the shape of y to (n_samples,), for example using ravel().\n",
      "  RFC.fit(train[predictors],train[target])\n"
     ]
    },
    {
     "data": {
      "image/png": "[encoded data removed]",
      "text/plain": [
       "<Figure size 432x288 with 1 Axes>"
      ]
     },
     "metadata": {
      "needs_background": "light"
     },
     "output_type": "display_data"
    }
   ],
   "source": [
    "# Random Forest Classifier\n",
    "train=sp500.iloc[:-550]\n",
    "test=sp500.iloc[-550:]\n",
    "predictors=[\"Open\",\"High\",\"Low\",\"Close\",\"Volume\"]\n",
    "target=[\"Target\"]\n",
    "precisionscore,concatenated_df=RFCpredict(train,test,predictors,target)\n",
    "precisionscore"
   ]
  },
  {
   "cell_type": "code",
   "execution_count": 153,
   "metadata": {},
   "outputs": [],
   "source": [
    "predictors=[\"Open\",\"High\",\"Low\",\"Close\",\"Volume\"]\n",
    "target=[\"Target\"]\n",
    "def backtesting(inputt,model,predictors,target,start=2500,step=250): #each year has approx 250 entries so 10 years=2500 entries for training and testing the following 250 entries\n",
    "    total_predictions=[]\n",
    "    for i in range(start,inputt.shape[0],step):\n",
    "        train=inputt.iloc[0:i].copy()\n",
    "        test=inputt.iloc[i:(i+step)].copy()\n",
    "        precisionscore,concatenated_df=predict(train,model,test,predictors,target)\n",
    "        total_predictions.append(concatenated_df)\n",
    "    return pd.concat(total_predictions)"
   ]
  },
  {
   "cell_type": "code",
   "execution_count": 86,
   "metadata": {
    "scrolled": true
   },
   "outputs": [
    {
     "name": "stderr",
     "output_type": "stream",
     "text": [
      "<ipython-input-67-b6e9b3eed26c>:3: DataConversionWarning: A column-vector y was passed when a 1d array was expected. Please change the shape of y to (n_samples,), for example using ravel().\n",
      "  RFC.fit(train[predictors],train[target])\n",
      "<ipython-input-67-b6e9b3eed26c>:3: DataConversionWarning: A column-vector y was passed when a 1d array was expected. Please change the shape of y to (n_samples,), for example using ravel().\n",
      "  RFC.fit(train[predictors],train[target])\n",
      "<ipython-input-67-b6e9b3eed26c>:3: DataConversionWarning: A column-vector y was passed when a 1d array was expected. Please change the shape of y to (n_samples,), for example using ravel().\n",
      "  RFC.fit(train[predictors],train[target])\n",
      "<ipython-input-67-b6e9b3eed26c>:3: DataConversionWarning: A column-vector y was passed when a 1d array was expected. Please change the shape of y to (n_samples,), for example using ravel().\n",
      "  RFC.fit(train[predictors],train[target])\n",
      "<ipython-input-67-b6e9b3eed26c>:3: DataConversionWarning: A column-vector y was passed when a 1d array was expected. Please change the shape of y to (n_samples,), for example using ravel().\n",
      "  RFC.fit(train[predictors],train[target])\n",
      "<ipython-input-67-b6e9b3eed26c>:3: DataConversionWarning: A column-vector y was passed when a 1d array was expected. Please change the shape of y to (n_samples,), for example using ravel().\n",
      "  RFC.fit(train[predictors],train[target])\n",
      "<ipython-input-67-b6e9b3eed26c>:3: DataConversionWarning: A column-vector y was passed when a 1d array was expected. Please change the shape of y to (n_samples,), for example using ravel().\n",
      "  RFC.fit(train[predictors],train[target])\n",
      "<ipython-input-67-b6e9b3eed26c>:3: DataConversionWarning: A column-vector y was passed when a 1d array was expected. Please change the shape of y to (n_samples,), for example using ravel().\n",
      "  RFC.fit(train[predictors],train[target])\n",
      "<ipython-input-67-b6e9b3eed26c>:3: DataConversionWarning: A column-vector y was passed when a 1d array was expected. Please change the shape of y to (n_samples,), for example using ravel().\n",
      "  RFC.fit(train[predictors],train[target])\n",
      "<ipython-input-67-b6e9b3eed26c>:3: DataConversionWarning: A column-vector y was passed when a 1d array was expected. Please change the shape of y to (n_samples,), for example using ravel().\n",
      "  RFC.fit(train[predictors],train[target])\n",
      "<ipython-input-67-b6e9b3eed26c>:3: DataConversionWarning: A column-vector y was passed when a 1d array was expected. Please change the shape of y to (n_samples,), for example using ravel().\n",
      "  RFC.fit(train[predictors],train[target])\n",
      "<ipython-input-67-b6e9b3eed26c>:3: DataConversionWarning: A column-vector y was passed when a 1d array was expected. Please change the shape of y to (n_samples,), for example using ravel().\n",
      "  RFC.fit(train[predictors],train[target])\n",
      "<ipython-input-67-b6e9b3eed26c>:3: DataConversionWarning: A column-vector y was passed when a 1d array was expected. Please change the shape of y to (n_samples,), for example using ravel().\n",
      "  RFC.fit(train[predictors],train[target])\n",
      "<ipython-input-67-b6e9b3eed26c>:3: DataConversionWarning: A column-vector y was passed when a 1d array was expected. Please change the shape of y to (n_samples,), for example using ravel().\n",
      "  RFC.fit(train[predictors],train[target])\n",
      "<ipython-input-67-b6e9b3eed26c>:3: DataConversionWarning: A column-vector y was passed when a 1d array was expected. Please change the shape of y to (n_samples,), for example using ravel().\n",
      "  RFC.fit(train[predictors],train[target])\n",
      "C:\\Users\\dmsss\\anaconda3\\lib\\site-packages\\sklearn\\metrics\\_classification.py:1344: UndefinedMetricWarning: Precision is ill-defined and being set to 0.0 due to no predicted samples. Use `zero_division` parameter to control this behavior.\n",
      "  _warn_prf(average, modifier, msg_start, len(result))\n",
      "<ipython-input-67-b6e9b3eed26c>:3: DataConversionWarning: A column-vector y was passed when a 1d array was expected. Please change the shape of y to (n_samples,), for example using ravel().\n",
      "  RFC.fit(train[predictors],train[target])\n",
      "<ipython-input-67-b6e9b3eed26c>:3: DataConversionWarning: A column-vector y was passed when a 1d array was expected. Please change the shape of y to (n_samples,), for example using ravel().\n",
      "  RFC.fit(train[predictors],train[target])\n",
      "<ipython-input-67-b6e9b3eed26c>:3: DataConversionWarning: A column-vector y was passed when a 1d array was expected. Please change the shape of y to (n_samples,), for example using ravel().\n",
      "  RFC.fit(train[predictors],train[target])\n",
      "<ipython-input-67-b6e9b3eed26c>:3: DataConversionWarning: A column-vector y was passed when a 1d array was expected. Please change the shape of y to (n_samples,), for example using ravel().\n",
      "  RFC.fit(train[predictors],train[target])\n",
      "<ipython-input-67-b6e9b3eed26c>:3: DataConversionWarning: A column-vector y was passed when a 1d array was expected. Please change the shape of y to (n_samples,), for example using ravel().\n",
      "  RFC.fit(train[predictors],train[target])\n",
      "<ipython-input-67-b6e9b3eed26c>:3: DataConversionWarning: A column-vector y was passed when a 1d array was expected. Please change the shape of y to (n_samples,), for example using ravel().\n",
      "  RFC.fit(train[predictors],train[target])\n",
      "<ipython-input-67-b6e9b3eed26c>:3: DataConversionWarning: A column-vector y was passed when a 1d array was expected. Please change the shape of y to (n_samples,), for example using ravel().\n",
      "  RFC.fit(train[predictors],train[target])\n",
      "<ipython-input-67-b6e9b3eed26c>:3: DataConversionWarning: A column-vector y was passed when a 1d array was expected. Please change the shape of y to (n_samples,), for example using ravel().\n",
      "  RFC.fit(train[predictors],train[target])\n",
      "<ipython-input-67-b6e9b3eed26c>:3: DataConversionWarning: A column-vector y was passed when a 1d array was expected. Please change the shape of y to (n_samples,), for example using ravel().\n",
      "  RFC.fit(train[predictors],train[target])\n",
      "<ipython-input-67-b6e9b3eed26c>:3: DataConversionWarning: A column-vector y was passed when a 1d array was expected. Please change the shape of y to (n_samples,), for example using ravel().\n",
      "  RFC.fit(train[predictors],train[target])\n"
     ]
    }
   ],
   "source": [
    "model=RandomForestClassifier(n_estimators=300,min_samples_split=100,random_state=1)\n",
    "predictions_=backtesting(sp500,model,predictors,target)\n",
    "precision_score(predictions_[\"Target\"],predictions_[0])"
   ]
  },
  {
   "cell_type": "code",
   "execution_count": 154,
   "metadata": {},
   "outputs": [],
   "source": [
    "horizons=[2,5,30,60,180,400]\n",
    "for i in horizons:\n",
    "    sp500[f\"Close_Ratio_{i}_days\"]=sp500[\"Close\"]/sp500.rolling(i).mean()[\"Close\"]\n",
    "    sp500[f\"Trend_{i}_days\"]=sp500.shift(1).rolling(i).sum()[\"Target\"]\n",
    "    predictors+=[f\"Close_Ratio_{i}_days\",f\"Trend_{i}_days\"]\n",
    "sp500=sp500.dropna()"
   ]
  },
  {
   "cell_type": "code",
   "execution_count": 164,
   "metadata": {
    "scrolled": true
   },
   "outputs": [
    {
     "name": "stderr",
     "output_type": "stream",
     "text": [
      "<ipython-input-163-c2c6b3558218>:2: DataConversionWarning: A column-vector y was passed when a 1d array was expected. Please change the shape of y to (n_samples,), for example using ravel().\n",
      "  model.fit(train[predictors],train[target])\n",
      "<ipython-input-163-c2c6b3558218>:2: DataConversionWarning: A column-vector y was passed when a 1d array was expected. Please change the shape of y to (n_samples,), for example using ravel().\n",
      "  model.fit(train[predictors],train[target])\n",
      "<ipython-input-163-c2c6b3558218>:2: DataConversionWarning: A column-vector y was passed when a 1d array was expected. Please change the shape of y to (n_samples,), for example using ravel().\n",
      "  model.fit(train[predictors],train[target])\n",
      "C:\\Users\\dmsss\\anaconda3\\lib\\site-packages\\sklearn\\metrics\\_classification.py:1344: UndefinedMetricWarning: Precision is ill-defined and being set to 0.0 due to no predicted samples. Use `zero_division` parameter to control this behavior.\n",
      "  _warn_prf(average, modifier, msg_start, len(result))\n",
      "<ipython-input-163-c2c6b3558218>:2: DataConversionWarning: A column-vector y was passed when a 1d array was expected. Please change the shape of y to (n_samples,), for example using ravel().\n",
      "  model.fit(train[predictors],train[target])\n",
      "<ipython-input-163-c2c6b3558218>:2: DataConversionWarning: A column-vector y was passed when a 1d array was expected. Please change the shape of y to (n_samples,), for example using ravel().\n",
      "  model.fit(train[predictors],train[target])\n",
      "<ipython-input-163-c2c6b3558218>:2: DataConversionWarning: A column-vector y was passed when a 1d array was expected. Please change the shape of y to (n_samples,), for example using ravel().\n",
      "  model.fit(train[predictors],train[target])\n",
      "<ipython-input-163-c2c6b3558218>:2: DataConversionWarning: A column-vector y was passed when a 1d array was expected. Please change the shape of y to (n_samples,), for example using ravel().\n",
      "  model.fit(train[predictors],train[target])\n",
      "<ipython-input-163-c2c6b3558218>:2: DataConversionWarning: A column-vector y was passed when a 1d array was expected. Please change the shape of y to (n_samples,), for example using ravel().\n",
      "  model.fit(train[predictors],train[target])\n",
      "<ipython-input-163-c2c6b3558218>:2: DataConversionWarning: A column-vector y was passed when a 1d array was expected. Please change the shape of y to (n_samples,), for example using ravel().\n",
      "  model.fit(train[predictors],train[target])\n",
      "<ipython-input-163-c2c6b3558218>:2: DataConversionWarning: A column-vector y was passed when a 1d array was expected. Please change the shape of y to (n_samples,), for example using ravel().\n",
      "  model.fit(train[predictors],train[target])\n",
      "<ipython-input-163-c2c6b3558218>:2: DataConversionWarning: A column-vector y was passed when a 1d array was expected. Please change the shape of y to (n_samples,), for example using ravel().\n",
      "  model.fit(train[predictors],train[target])\n",
      "<ipython-input-163-c2c6b3558218>:2: DataConversionWarning: A column-vector y was passed when a 1d array was expected. Please change the shape of y to (n_samples,), for example using ravel().\n",
      "  model.fit(train[predictors],train[target])\n",
      "<ipython-input-163-c2c6b3558218>:2: DataConversionWarning: A column-vector y was passed when a 1d array was expected. Please change the shape of y to (n_samples,), for example using ravel().\n",
      "  model.fit(train[predictors],train[target])\n",
      "<ipython-input-163-c2c6b3558218>:2: DataConversionWarning: A column-vector y was passed when a 1d array was expected. Please change the shape of y to (n_samples,), for example using ravel().\n",
      "  model.fit(train[predictors],train[target])\n",
      "<ipython-input-163-c2c6b3558218>:2: DataConversionWarning: A column-vector y was passed when a 1d array was expected. Please change the shape of y to (n_samples,), for example using ravel().\n",
      "  model.fit(train[predictors],train[target])\n",
      "<ipython-input-163-c2c6b3558218>:2: DataConversionWarning: A column-vector y was passed when a 1d array was expected. Please change the shape of y to (n_samples,), for example using ravel().\n",
      "  model.fit(train[predictors],train[target])\n",
      "<ipython-input-163-c2c6b3558218>:2: DataConversionWarning: A column-vector y was passed when a 1d array was expected. Please change the shape of y to (n_samples,), for example using ravel().\n",
      "  model.fit(train[predictors],train[target])\n",
      "C:\\Users\\dmsss\\anaconda3\\lib\\site-packages\\sklearn\\metrics\\_classification.py:1344: UndefinedMetricWarning: Precision is ill-defined and being set to 0.0 due to no predicted samples. Use `zero_division` parameter to control this behavior.\n",
      "  _warn_prf(average, modifier, msg_start, len(result))\n",
      "<ipython-input-163-c2c6b3558218>:2: DataConversionWarning: A column-vector y was passed when a 1d array was expected. Please change the shape of y to (n_samples,), for example using ravel().\n",
      "  model.fit(train[predictors],train[target])\n",
      "<ipython-input-163-c2c6b3558218>:2: DataConversionWarning: A column-vector y was passed when a 1d array was expected. Please change the shape of y to (n_samples,), for example using ravel().\n",
      "  model.fit(train[predictors],train[target])\n",
      "<ipython-input-163-c2c6b3558218>:2: DataConversionWarning: A column-vector y was passed when a 1d array was expected. Please change the shape of y to (n_samples,), for example using ravel().\n",
      "  model.fit(train[predictors],train[target])\n",
      "C:\\Users\\dmsss\\anaconda3\\lib\\site-packages\\sklearn\\metrics\\_classification.py:1344: UndefinedMetricWarning: Precision is ill-defined and being set to 0.0 due to no predicted samples. Use `zero_division` parameter to control this behavior.\n",
      "  _warn_prf(average, modifier, msg_start, len(result))\n",
      "<ipython-input-163-c2c6b3558218>:2: DataConversionWarning: A column-vector y was passed when a 1d array was expected. Please change the shape of y to (n_samples,), for example using ravel().\n",
      "  model.fit(train[predictors],train[target])\n",
      "<ipython-input-163-c2c6b3558218>:2: DataConversionWarning: A column-vector y was passed when a 1d array was expected. Please change the shape of y to (n_samples,), for example using ravel().\n",
      "  model.fit(train[predictors],train[target])\n",
      "<ipython-input-163-c2c6b3558218>:2: DataConversionWarning: A column-vector y was passed when a 1d array was expected. Please change the shape of y to (n_samples,), for example using ravel().\n",
      "  model.fit(train[predictors],train[target])\n",
      "C:\\Users\\dmsss\\anaconda3\\lib\\site-packages\\sklearn\\metrics\\_classification.py:1344: UndefinedMetricWarning: Precision is ill-defined and being set to 0.0 due to no predicted samples. Use `zero_division` parameter to control this behavior.\n",
      "  _warn_prf(average, modifier, msg_start, len(result))\n"
     ]
    },
    {
     "data": {
      "text/plain": [
       "0.5789473684210527"
      ]
     },
     "execution_count": 164,
     "metadata": {},
     "output_type": "execute_result"
    }
   ],
   "source": [
    "model=RandomForestClassifier(n_estimators=300,min_samples_split=100,random_state=1)\n",
    "predictions_=backtesting(sp500,model,predictors,target)\n",
    "precision_score(predictions_[\"Target\"],predictions_[0])"
   ]
  },
  {
   "cell_type": "code",
   "execution_count": 168,
   "metadata": {},
   "outputs": [
    {
     "data": {
      "text/plain": [
       "Target\n",
       "1    0.540435\n",
       "0    0.459565\n",
       "Name: count, dtype: float64"
      ]
     },
     "execution_count": 168,
     "metadata": {},
     "output_type": "execute_result"
    }
   ],
   "source": [
    "predictions_[\"Target\"].value_counts()/predictions_.shape[0]"
   ]
  },
  {
   "cell_type": "code",
   "execution_count": 160,
   "metadata": {
    "scrolled": true
   },
   "outputs": [
    {
     "name": "stderr",
     "output_type": "stream",
     "text": [
      "C:\\Users\\dmsss\\anaconda3\\lib\\site-packages\\sklearn\\utils\\validation.py:1143: DataConversionWarning: A column-vector y was passed when a 1d array was expected. Please change the shape of y to (n_samples, ), for example using ravel().\n",
      "  y = column_or_1d(y, warn=True)\n",
      "C:\\Users\\dmsss\\anaconda3\\lib\\site-packages\\sklearn\\utils\\validation.py:1143: DataConversionWarning: A column-vector y was passed when a 1d array was expected. Please change the shape of y to (n_samples, ), for example using ravel().\n",
      "  y = column_or_1d(y, warn=True)\n",
      "C:\\Users\\dmsss\\anaconda3\\lib\\site-packages\\sklearn\\utils\\validation.py:1143: DataConversionWarning: A column-vector y was passed when a 1d array was expected. Please change the shape of y to (n_samples, ), for example using ravel().\n",
      "  y = column_or_1d(y, warn=True)\n",
      "C:\\Users\\dmsss\\anaconda3\\lib\\site-packages\\sklearn\\utils\\validation.py:1143: DataConversionWarning: A column-vector y was passed when a 1d array was expected. Please change the shape of y to (n_samples, ), for example using ravel().\n",
      "  y = column_or_1d(y, warn=True)\n",
      "C:\\Users\\dmsss\\anaconda3\\lib\\site-packages\\sklearn\\utils\\validation.py:1143: DataConversionWarning: A column-vector y was passed when a 1d array was expected. Please change the shape of y to (n_samples, ), for example using ravel().\n",
      "  y = column_or_1d(y, warn=True)\n",
      "C:\\Users\\dmsss\\anaconda3\\lib\\site-packages\\sklearn\\utils\\validation.py:1143: DataConversionWarning: A column-vector y was passed when a 1d array was expected. Please change the shape of y to (n_samples, ), for example using ravel().\n",
      "  y = column_or_1d(y, warn=True)\n",
      "C:\\Users\\dmsss\\anaconda3\\lib\\site-packages\\sklearn\\utils\\validation.py:1143: DataConversionWarning: A column-vector y was passed when a 1d array was expected. Please change the shape of y to (n_samples, ), for example using ravel().\n",
      "  y = column_or_1d(y, warn=True)\n",
      "C:\\Users\\dmsss\\anaconda3\\lib\\site-packages\\sklearn\\utils\\validation.py:1143: DataConversionWarning: A column-vector y was passed when a 1d array was expected. Please change the shape of y to (n_samples, ), for example using ravel().\n",
      "  y = column_or_1d(y, warn=True)\n",
      "C:\\Users\\dmsss\\anaconda3\\lib\\site-packages\\sklearn\\utils\\validation.py:1143: DataConversionWarning: A column-vector y was passed when a 1d array was expected. Please change the shape of y to (n_samples, ), for example using ravel().\n",
      "  y = column_or_1d(y, warn=True)\n",
      "C:\\Users\\dmsss\\anaconda3\\lib\\site-packages\\sklearn\\utils\\validation.py:1143: DataConversionWarning: A column-vector y was passed when a 1d array was expected. Please change the shape of y to (n_samples, ), for example using ravel().\n",
      "  y = column_or_1d(y, warn=True)\n",
      "C:\\Users\\dmsss\\anaconda3\\lib\\site-packages\\sklearn\\utils\\validation.py:1143: DataConversionWarning: A column-vector y was passed when a 1d array was expected. Please change the shape of y to (n_samples, ), for example using ravel().\n",
      "  y = column_or_1d(y, warn=True)\n",
      "C:\\Users\\dmsss\\anaconda3\\lib\\site-packages\\sklearn\\utils\\validation.py:1143: DataConversionWarning: A column-vector y was passed when a 1d array was expected. Please change the shape of y to (n_samples, ), for example using ravel().\n",
      "  y = column_or_1d(y, warn=True)\n",
      "C:\\Users\\dmsss\\anaconda3\\lib\\site-packages\\sklearn\\utils\\validation.py:1143: DataConversionWarning: A column-vector y was passed when a 1d array was expected. Please change the shape of y to (n_samples, ), for example using ravel().\n",
      "  y = column_or_1d(y, warn=True)\n",
      "C:\\Users\\dmsss\\anaconda3\\lib\\site-packages\\sklearn\\utils\\validation.py:1143: DataConversionWarning: A column-vector y was passed when a 1d array was expected. Please change the shape of y to (n_samples, ), for example using ravel().\n",
      "  y = column_or_1d(y, warn=True)\n",
      "C:\\Users\\dmsss\\anaconda3\\lib\\site-packages\\sklearn\\utils\\validation.py:1143: DataConversionWarning: A column-vector y was passed when a 1d array was expected. Please change the shape of y to (n_samples, ), for example using ravel().\n",
      "  y = column_or_1d(y, warn=True)\n",
      "C:\\Users\\dmsss\\anaconda3\\lib\\site-packages\\sklearn\\utils\\validation.py:1143: DataConversionWarning: A column-vector y was passed when a 1d array was expected. Please change the shape of y to (n_samples, ), for example using ravel().\n",
      "  y = column_or_1d(y, warn=True)\n",
      "C:\\Users\\dmsss\\anaconda3\\lib\\site-packages\\sklearn\\utils\\validation.py:1143: DataConversionWarning: A column-vector y was passed when a 1d array was expected. Please change the shape of y to (n_samples, ), for example using ravel().\n",
      "  y = column_or_1d(y, warn=True)\n",
      "C:\\Users\\dmsss\\anaconda3\\lib\\site-packages\\sklearn\\utils\\validation.py:1143: DataConversionWarning: A column-vector y was passed when a 1d array was expected. Please change the shape of y to (n_samples, ), for example using ravel().\n",
      "  y = column_or_1d(y, warn=True)\n",
      "C:\\Users\\dmsss\\anaconda3\\lib\\site-packages\\sklearn\\utils\\validation.py:1143: DataConversionWarning: A column-vector y was passed when a 1d array was expected. Please change the shape of y to (n_samples, ), for example using ravel().\n",
      "  y = column_or_1d(y, warn=True)\n",
      "C:\\Users\\dmsss\\anaconda3\\lib\\site-packages\\sklearn\\utils\\validation.py:1143: DataConversionWarning: A column-vector y was passed when a 1d array was expected. Please change the shape of y to (n_samples, ), for example using ravel().\n",
      "  y = column_or_1d(y, warn=True)\n",
      "C:\\Users\\dmsss\\anaconda3\\lib\\site-packages\\sklearn\\utils\\validation.py:1143: DataConversionWarning: A column-vector y was passed when a 1d array was expected. Please change the shape of y to (n_samples, ), for example using ravel().\n",
      "  y = column_or_1d(y, warn=True)\n",
      "C:\\Users\\dmsss\\anaconda3\\lib\\site-packages\\sklearn\\utils\\validation.py:1143: DataConversionWarning: A column-vector y was passed when a 1d array was expected. Please change the shape of y to (n_samples, ), for example using ravel().\n",
      "  y = column_or_1d(y, warn=True)\n",
      "C:\\Users\\dmsss\\anaconda3\\lib\\site-packages\\sklearn\\utils\\validation.py:1143: DataConversionWarning: A column-vector y was passed when a 1d array was expected. Please change the shape of y to (n_samples, ), for example using ravel().\n",
      "  y = column_or_1d(y, warn=True)\n"
     ]
    },
    {
     "data": {
      "text/plain": [
       "0.5404347826086957"
      ]
     },
     "execution_count": 160,
     "metadata": {},
     "output_type": "execute_result"
    }
   ],
   "source": [
    "model=LogisticRegression(penalty='l2',random_state=None)\n",
    "predictions_=backtesting(sp500,model,predictors,target)\n",
    "precision_score(predictions_[\"Target\"],predictions_[0])"
   ]
  },
  {
   "cell_type": "code",
   "execution_count": 159,
   "metadata": {},
   "outputs": [
    {
     "data": {
      "text/plain": [
       "['Open',\n",
       " 'High',\n",
       " 'Low',\n",
       " 'Close',\n",
       " 'Volume',\n",
       " 'Close_Ratio_2_days',\n",
       " 'Trend_2_days',\n",
       " 'Close_Ratio_5_days',\n",
       " 'Trend_5_days',\n",
       " 'Close_Ratio_30_days',\n",
       " 'Trend_30_days',\n",
       " 'Close_Ratio_60_days',\n",
       " 'Trend_60_days',\n",
       " 'Close_Ratio_180_days',\n",
       " 'Trend_180_days',\n",
       " 'Close_Ratio_400_days',\n",
       " 'Trend_400_days']"
      ]
     },
     "execution_count": 159,
     "metadata": {},
     "output_type": "execute_result"
    }
   ],
   "source": [
    "predictors"
   ]
  },
  {
   "cell_type": "code",
   "execution_count": null,
   "metadata": {},
   "outputs": [],
   "source": []
  }
 ],
 "metadata": {
  "kernelspec": {
   "display_name": "Python 3",
   "language": "python",
   "name": "python3"
  },
  "language_info": {
   "codemirror_mode": {
    "name": "ipython",
    "version": 3
   },
   "file_extension": ".py",
   "mimetype": "text/x-python",
   "name": "python",
   "nbconvert_exporter": "python",
   "pygments_lexer": "ipython3",
   "version": "3.8.5"
  }
 },
 "nbformat": 4,
 "nbformat_minor": 4
}
